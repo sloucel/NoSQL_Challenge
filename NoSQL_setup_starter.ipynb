{
 "cells": [
  {
   "cell_type": "markdown",
   "id": "9a57c4c6",
   "metadata": {},
   "source": [
    "# Eat Safe, Love"
   ]
  },
  {
   "cell_type": "markdown",
   "id": "064ef857",
   "metadata": {},
   "source": [
    "## Part 1: Database and Jupyter Notebook Set Up"
   ]
  },
  {
   "cell_type": "markdown",
   "id": "664e3c1f",
   "metadata": {},
   "source": [
    "Import the data provided in the `establishments.json` file from your Terminal. Name the database `uk_food` and the collection `establishments`.\n",
    "\n",
    "Within this markdown cell, copy the line of text you used to import the data from your Terminal. This way, future analysts will be able to repeat your process.\n",
    "\n",
    "e.g.: Import the dataset with 'mongoimport --type json -d uk_food -c establishments --drop --jsonArray establishments.json'"
   ]
  },
  {
   "cell_type": "code",
   "execution_count": 82,
   "id": "3ecdd008",
   "metadata": {},
   "outputs": [],
   "source": [
    "# Import dependencies\n",
    "from pymongo import MongoClient\n",
    "from pprint import pprint\n",
    "import pandas as pd"
   ]
  },
  {
   "cell_type": "code",
   "execution_count": 5,
   "id": "59390c4a",
   "metadata": {},
   "outputs": [],
   "source": [
    "# Create an instance of MongoClient\n",
    "mongo = MongoClient(port=27017)"
   ]
  },
  {
   "cell_type": "code",
   "execution_count": 6,
   "id": "7f9ececa",
   "metadata": {},
   "outputs": [
    {
     "name": "stdout",
     "output_type": "stream",
     "text": [
      "['admin', 'autosaurus', 'classDB', 'class_db', 'config', 'epa', 'fruits_db', 'garden_db', 'local', 'met', 'petsitly_marketing', 'travel_db', 'uk_food']\n"
     ]
    }
   ],
   "source": [
    "# confirm that our new database was created\n",
    "print(mongo.list_database_names())"
   ]
  },
  {
   "cell_type": "code",
   "execution_count": 7,
   "id": "71e373c1",
   "metadata": {},
   "outputs": [],
   "source": [
    "# assign the uk_food database to a variable name\n",
    "db = mongo['uk_food']"
   ]
  },
  {
   "cell_type": "code",
   "execution_count": 8,
   "id": "ef1b89ed",
   "metadata": {},
   "outputs": [
    {
     "name": "stdout",
     "output_type": "stream",
     "text": [
      "['establishments']\n"
     ]
    }
   ],
   "source": [
    "# review the collections in our new database\n",
    "print(db.list_collection_names())"
   ]
  },
  {
   "cell_type": "code",
   "execution_count": 9,
   "id": "6a0d92df",
   "metadata": {},
   "outputs": [
    {
     "name": "stdout",
     "output_type": "stream",
     "text": [
      "{'AddressLine1': 'West Cottage',\n",
      " 'AddressLine2': 'South Foreland Lighthouse',\n",
      " 'AddressLine3': 'The Front',\n",
      " 'AddressLine4': 'St Margarets Bay',\n",
      " 'BusinessName': 'Mrs Knotts Tea Room',\n",
      " 'BusinessType': 'Restaurant/Cafe/Canteen',\n",
      " 'BusinessTypeID': 1,\n",
      " 'ChangesByServerID': 0,\n",
      " 'Distance': 4587.492467848017,\n",
      " 'FHRSID': 429991,\n",
      " 'LocalAuthorityBusinessID': 'PI/000055200',\n",
      " 'LocalAuthorityCode': '182',\n",
      " 'LocalAuthorityEmailAddress': 'publicprotection@dover.gov.uk',\n",
      " 'LocalAuthorityName': 'Dover',\n",
      " 'LocalAuthorityWebSite': 'http://www.dover.gov.uk/',\n",
      " 'NewRatingPending': False,\n",
      " 'Phone': '',\n",
      " 'PostCode': 'CT15 6HP',\n",
      " 'RatingDate': '2019-05-02T00:00:00',\n",
      " 'RatingKey': 'fhrs_5_en-gb',\n",
      " 'RatingValue': '5',\n",
      " 'RightToReply': '',\n",
      " 'SchemeType': 'FHRS',\n",
      " '_id': ObjectId('666fa2ba635b43e663faecd5'),\n",
      " 'geocode': {'latitude': '51.14061', 'longitude': '1.371894'},\n",
      " 'links': [{'href': 'https://api.ratings.food.gov.uk/establishments/429991',\n",
      "            'rel': 'self'}],\n",
      " 'meta': {'dataSource': None,\n",
      "          'extractDate': '0001-01-01T00:00:00',\n",
      "          'itemCount': 0,\n",
      "          'pageNumber': 0,\n",
      "          'pageSize': 0,\n",
      "          'returncode': None,\n",
      "          'totalCount': 0,\n",
      "          'totalPages': 0},\n",
      " 'scores': {'ConfidenceInManagement': 0, 'Hygiene': 0, 'Structural': 0}}\n"
     ]
    }
   ],
   "source": [
    "# review a document in the establishments collection\n",
    "pprint(db.establishments.find_one())"
   ]
  },
  {
   "cell_type": "code",
   "execution_count": 10,
   "id": "11c9f11b",
   "metadata": {},
   "outputs": [],
   "source": [
    "# assign the collection to a variable\n",
    "establishments = db['establishments']"
   ]
  },
  {
   "cell_type": "markdown",
   "id": "d5671434",
   "metadata": {},
   "source": [
    "## Part 2: Update the Database"
   ]
  },
  {
   "cell_type": "markdown",
   "id": "314bd884",
   "metadata": {},
   "source": [
    "1. An exciting new halal restaurant just opened in Greenwich, but hasn't been rated yet. The magazine has asked you to include it in your analysis. Add the following restaurant \"Penang Flavours\" to the database."
   ]
  },
  {
   "cell_type": "code",
   "execution_count": 11,
   "id": "c2da7648",
   "metadata": {},
   "outputs": [],
   "source": [
    "# Create a dictionary for the new restaurant data\n",
    "new_restuarant = {\n",
    "    \"BusinessName\":\"Penang Flavours\",\n",
    "    \"BusinessType\":\"Restaurant/Cafe/Canteen\",\n",
    "    \"BusinessTypeID\":\"\",\n",
    "    \"AddressLine1\":\"Penang Flavours\",\n",
    "    \"AddressLine2\":\"146A Plumstead Rd\",\n",
    "    \"AddressLine3\":\"London\",\n",
    "    \"AddressLine4\":\"\",\n",
    "    \"PostCode\":\"SE18 7DY\",\n",
    "    \"Phone\":\"\",\n",
    "    \"LocalAuthorityCode\":\"511\",\n",
    "    \"LocalAuthorityName\":\"Greenwich\",\n",
    "    \"LocalAuthorityWebSite\":\"http://www.royalgreenwich.gov.uk\",\n",
    "    \"LocalAuthorityEmailAddress\":\"health@royalgreenwich.gov.uk\",\n",
    "    \"scores\":{\n",
    "        \"Hygiene\":\"\",\n",
    "        \"Structural\":\"\",\n",
    "        \"ConfidenceInManagement\":\"\"\n",
    "    },\n",
    "    \"SchemeType\":\"FHRS\",\n",
    "    \"geocode\":{\n",
    "        \"longitude\":\"0.08384000\",\n",
    "        \"latitude\":\"51.49014200\"\n",
    "    },\n",
    "    \"RightToReply\":\"\",\n",
    "    \"Distance\":4623.9723280747176,\n",
    "    \"NewRatingPending\":True\n",
    "}\n"
   ]
  },
  {
   "cell_type": "code",
   "execution_count": 12,
   "id": "a6e5cece",
   "metadata": {},
   "outputs": [],
   "source": [
    "# Insert the new restaurant into the collection\n",
    "result = establishments.insert_one(new_restuarant)"
   ]
  },
  {
   "cell_type": "code",
   "execution_count": 17,
   "id": "63bb10f9",
   "metadata": {},
   "outputs": [
    {
     "name": "stdout",
     "output_type": "stream",
     "text": [
      "{'AddressLine1': 'Penang Flavours',\n",
      " 'AddressLine2': '146A Plumstead Rd',\n",
      " 'AddressLine3': 'London',\n",
      " 'AddressLine4': '',\n",
      " 'BusinessName': 'Penang Flavours',\n",
      " 'BusinessType': 'Restaurant/Cafe/Canteen',\n",
      " 'BusinessTypeID': '',\n",
      " 'Distance': 4623.972328074718,\n",
      " 'LocalAuthorityCode': '511',\n",
      " 'LocalAuthorityEmailAddress': 'health@royalgreenwich.gov.uk',\n",
      " 'LocalAuthorityName': 'Greenwich',\n",
      " 'LocalAuthorityWebSite': 'http://www.royalgreenwich.gov.uk',\n",
      " 'NewRatingPending': True,\n",
      " 'Phone': '',\n",
      " 'PostCode': 'SE18 7DY',\n",
      " 'RightToReply': '',\n",
      " 'SchemeType': 'FHRS',\n",
      " '_id': ObjectId('667357e1041028fe9a174b1b'),\n",
      " 'geocode': {'latitude': '51.49014200', 'longitude': '0.08384000'},\n",
      " 'scores': {'ConfidenceInManagement': '', 'Hygiene': '', 'Structural': ''}}\n"
     ]
    }
   ],
   "source": [
    "# Check that the new restaurant was inserted\n",
    "query = {'BusinessName': \"Penang Flavours\"}\n",
    "results = establishments.find(query)\n",
    "pprint(results[0])"
   ]
  },
  {
   "cell_type": "markdown",
   "id": "0ef4395a",
   "metadata": {},
   "source": [
    "2. Find the BusinessTypeID for \"Restaurant/Cafe/Canteen\" and return only the `BusinessTypeID` and `BusinessType` fields."
   ]
  },
  {
   "cell_type": "code",
   "execution_count": 31,
   "id": "93c63829",
   "metadata": {},
   "outputs": [
    {
     "name": "stdout",
     "output_type": "stream",
     "text": [
      "{'BusinessType': 'Restaurant/Cafe/Canteen',\n",
      " 'BusinessTypeID': 1,\n",
      " '_id': ObjectId('666fa2ba635b43e663faecd5')}\n",
      "{'BusinessType': 'Restaurant/Cafe/Canteen',\n",
      " 'BusinessTypeID': 1,\n",
      " '_id': ObjectId('666fa2ba635b43e663faecd6')}\n",
      "{'BusinessType': 'Restaurant/Cafe/Canteen',\n",
      " 'BusinessTypeID': 1,\n",
      " '_id': ObjectId('666fa2ba635b43e663faecd7')}\n",
      "{'BusinessType': 'Restaurant/Cafe/Canteen',\n",
      " 'BusinessTypeID': 1,\n",
      " '_id': ObjectId('666fa2ba635b43e663faecda')}\n",
      "{'BusinessType': 'Restaurant/Cafe/Canteen',\n",
      " 'BusinessTypeID': 1,\n",
      " '_id': ObjectId('666fa2ba635b43e663faecdb')}\n"
     ]
    }
   ],
   "source": [
    "# Find the BusinessTypeID for \"Restaurant/Cafe/Canteen\" and return only the BusinessTypeID and BusinessType fields\n",
    "query = {'BusinessType': 'Restaurant/Cafe/Canteen'}\n",
    "fields = {'BusinessTypeID':1,'BusinessType': 1}\n",
    "\n",
    "results = establishments.find(query,fields).limit(5)\n",
    "\n",
    "for result in results:\n",
    "    pprint(result)"
   ]
  },
  {
   "cell_type": "markdown",
   "id": "4e570caf",
   "metadata": {},
   "source": [
    "3. Update the new restaurant with the `BusinessTypeID` you found."
   ]
  },
  {
   "cell_type": "code",
   "execution_count": 35,
   "id": "7f599f3d",
   "metadata": {},
   "outputs": [],
   "source": [
    "# Update the new restaurant with the correct BusinessTypeID\n",
    "business_id = \"1\"\n",
    "\n",
    "query = {\"BusinessName\": \"Penang Flavours\"}\n",
    "add_id = {\"$set\": {\"BusinessTypeID\": business_id}}\n",
    "\n",
    "result  = establishments.update_one(query,add_id)\n",
    "\n",
    "\n"
   ]
  },
  {
   "cell_type": "code",
   "execution_count": 38,
   "id": "a6ad16f7",
   "metadata": {},
   "outputs": [
    {
     "name": "stdout",
     "output_type": "stream",
     "text": [
      "{'BusinessName': 'Penang Flavours',\n",
      " 'BusinessType': 'Restaurant/Cafe/Canteen',\n",
      " 'BusinessTypeID': '1',\n",
      " '_id': ObjectId('667357e1041028fe9a174b1b')}\n"
     ]
    }
   ],
   "source": [
    "# Confirm that the new restaurant was updated\n",
    "query = {\"BusinessName\": \"Penang Flavours\"}\n",
    "fields = {'BusinessName':1, 'BusinessType': 1, 'BusinessTypeID':1}\n",
    "\n",
    "results = establishments.find(query,fields)\n",
    "\n",
    "for result in results:\n",
    "    pprint(result)"
   ]
  },
  {
   "cell_type": "markdown",
   "id": "67281254",
   "metadata": {},
   "source": [
    "4. The magazine is not interested in any establishments in Dover, so check how many documents contain the Dover Local Authority. Then, remove any establishments within the Dover Local Authority from the database, and check the number of documents to ensure they were deleted."
   ]
  },
  {
   "cell_type": "code",
   "execution_count": 48,
   "id": "768474a6",
   "metadata": {},
   "outputs": [
    {
     "name": "stdout",
     "output_type": "stream",
     "text": [
      "Number of documents total: 39780\n",
      "Number of documents w/ 'Dover': 994\n"
     ]
    }
   ],
   "source": [
    "# Total # of documents\n",
    "query = {}\n",
    "results = establishments.count_documents(query)\n",
    "print(f'Number of documents total: {results}')\n",
    "\n",
    "# Find how many documents have LocalAuthorityName as \"Dover\"\n",
    "query = {'LocalAuthorityName': 'Dover'}\n",
    "results = establishments.count_documents(query)\n",
    "print(f\"Number of documents w/ 'Dover': {results}\")"
   ]
  },
  {
   "cell_type": "code",
   "execution_count": 49,
   "id": "a11d5f1b",
   "metadata": {},
   "outputs": [],
   "source": [
    "# Delete all documents where LocalAuthorityName is \"Dover\"\n",
    "query = {'LocalAuthorityName': 'Dover'}\n",
    "results = establishments.delete_many(query)\n"
   ]
  },
  {
   "cell_type": "code",
   "execution_count": 50,
   "id": "2a51aba0",
   "metadata": {},
   "outputs": [
    {
     "name": "stdout",
     "output_type": "stream",
     "text": [
      "Number of documents w/ 'Dover': 0\n"
     ]
    }
   ],
   "source": [
    "# Check if any remaining documents include Dover\n",
    "query = {'LocalAuthorityName': 'Dover'}\n",
    "results = establishments.count_documents(query)\n",
    "print(f\"Number of documents w/ 'Dover': {results}\")"
   ]
  },
  {
   "cell_type": "code",
   "execution_count": 56,
   "id": "8c356f7b",
   "metadata": {},
   "outputs": [
    {
     "name": "stdout",
     "output_type": "stream",
     "text": [
      "Number of documents total: 38786\n",
      "{'AddressLine1': 'East Cliff Pavilion',\n",
      " 'AddressLine2': 'Wear Bay Road',\n",
      " 'AddressLine3': 'Folkestone',\n",
      " 'AddressLine4': 'Kent',\n",
      " 'BusinessName': 'The Pavilion',\n",
      " 'BusinessType': 'Restaurant/Cafe/Canteen',\n",
      " 'BusinessTypeID': 1,\n",
      " 'ChangesByServerID': 0,\n",
      " 'Distance': 4591.765489457773,\n",
      " 'FHRSID': 1043695,\n",
      " 'LocalAuthorityBusinessID': 'PI/000073616',\n",
      " 'LocalAuthorityCode': '188',\n",
      " 'LocalAuthorityEmailAddress': 'foodteam@folkestone-hythe.gov.uk',\n",
      " 'LocalAuthorityName': 'Folkestone and Hythe',\n",
      " 'LocalAuthorityWebSite': 'http://www.folkestone-hythe.gov.uk',\n",
      " 'NewRatingPending': False,\n",
      " 'Phone': '',\n",
      " 'PostCode': 'CT19 6BL',\n",
      " 'RatingDate': '2018-04-04T00:00:00',\n",
      " 'RatingKey': 'fhrs_5_en-gb',\n",
      " 'RatingValue': '5',\n",
      " 'RightToReply': '',\n",
      " 'SchemeType': 'FHRS',\n",
      " '_id': ObjectId('666fa2ba635b43e663faefb9'),\n",
      " 'geocode': {'latitude': '51.083812', 'longitude': '1.195625'},\n",
      " 'links': [{'href': 'https://api.ratings.food.gov.uk/establishments/1043695',\n",
      "            'rel': 'self'}],\n",
      " 'meta': {'dataSource': None,\n",
      "          'extractDate': '0001-01-01T00:00:00',\n",
      "          'itemCount': 0,\n",
      "          'pageNumber': 0,\n",
      "          'pageSize': 0,\n",
      "          'returncode': None,\n",
      "          'totalCount': 0,\n",
      "          'totalPages': 0},\n",
      " 'scores': {'ConfidenceInManagement': 5, 'Hygiene': 5, 'Structural': 5}}\n"
     ]
    }
   ],
   "source": [
    "# Total # of documents left\n",
    "query = {}\n",
    "results = establishments.count_documents(query)\n",
    "print(f'Number of documents total: {results}')\n",
    "\n",
    "# Check that other documents remain with 'find_one'\n",
    "pprint(establishments.find_one())\n",
    "\n"
   ]
  },
  {
   "attachments": {},
   "cell_type": "markdown",
   "id": "e9f1662d",
   "metadata": {},
   "source": [
    "5. Some of the number values are stored as strings, when they should be stored as numbers."
   ]
  },
  {
   "attachments": {},
   "cell_type": "markdown",
   "id": "c46df2df",
   "metadata": {},
   "source": [
    "Use `update_many` to convert `latitude` and `longitude` to decimal numbers."
   ]
  },
  {
   "cell_type": "code",
   "execution_count": 80,
   "id": "fd4112ce",
   "metadata": {},
   "outputs": [
    {
     "name": "stdout",
     "output_type": "stream",
     "text": [
      "{'_id': ObjectId('666fa2ba635b43e663faefb9'), 'geocode': {'longitude': 1.195625, 'latitude': 51.083812}}\n",
      "{'_id': ObjectId('666fa2ba635b43e663faefba'), 'geocode': {'longitude': 1.196408, 'latitude': 51.086058}}\n",
      "{'_id': ObjectId('666fa2ba635b43e663faefbe'), 'geocode': {'longitude': 1.194762, 'latitude': 51.085797}}\n",
      "{'_id': ObjectId('666fa2ba635b43e663faefbf'), 'geocode': {'longitude': 1.188537, 'latitude': 51.08084}}\n",
      "{'_id': ObjectId('666fa2ba635b43e663faefc0'), 'geocode': {'longitude': 1.188537, 'latitude': 51.08084}}\n"
     ]
    }
   ],
   "source": [
    "# Change the data type from String to Decimal for longitude and latitude\n",
    "\n",
    "# Change latitude\n",
    "establishments.update_many(\n",
    "    {\"geocode.latitude\": {\"$type\": \"string\"}},\n",
    "    [\n",
    "        {\n",
    "            \"$set\": {\"geocode.latitude\": {\"$toDouble\": \"$geocode.latitude\"}}\n",
    "        }\n",
    "    ]\n",
    ")\n",
    "# Change longitude\n",
    "establishments.update_many(\n",
    "    {\"geocode.longitude\": {\"$type\": \"string\"}},\n",
    "    [\n",
    "        {\n",
    "            \"$set\": {\"geocode.longitude\": {\"$toDouble\": \"$geocode.longitude\"}}\n",
    "        }\n",
    "    ]\n",
    ")\n",
    "\n",
    "query = {}\n",
    "fields = {'geocode.latitude': 1, 'geocode.longitude': 1}\n",
    "\n",
    "results = establishments.find(query, fields).limit(5) \n",
    "for result in results:\n",
    "    print(result)"
   ]
  },
  {
   "attachments": {},
   "cell_type": "markdown",
   "id": "142e319c",
   "metadata": {},
   "source": [
    "Use `update_many` to convert `RatingValue` to integer numbers."
   ]
  },
  {
   "cell_type": "code",
   "execution_count": 74,
   "id": "04430a5b",
   "metadata": {},
   "outputs": [
    {
     "data": {
      "text/plain": [
       "UpdateResult({'n': 0, 'nModified': 0, 'ok': 1.0, 'updatedExisting': False}, acknowledged=True)"
      ]
     },
     "execution_count": 74,
     "metadata": {},
     "output_type": "execute_result"
    }
   ],
   "source": [
    "# Set non 1-5 Rating Values to Null\n",
    "non_ratings = [\"AwaitingInspection\", \"Awaiting Inspection\", \"AwaitingPublication\", \"Pass\", \"Exempt\"]\n",
    "establishments.update_many({\"RatingValue\": {\"$in\": non_ratings}}, [ {'$set':{ \"RatingValue\" : None}} ])\n"
   ]
  },
  {
   "cell_type": "code",
   "execution_count": 88,
   "id": "542827b8",
   "metadata": {},
   "outputs": [
    {
     "name": "stdout",
     "output_type": "stream",
     "text": [
      "{'BusinessName': 'The Pavilion',\n",
      " 'RatingValue': 5,\n",
      " '_id': ObjectId('666fa2ba635b43e663faefb9')}\n",
      "{'BusinessName': 'Wear Bay Bowls Club',\n",
      " 'RatingValue': 4,\n",
      " '_id': ObjectId('666fa2ba635b43e663faefba')}\n",
      "{'BusinessName': 'St Marys COE (aided) Primary School',\n",
      " 'RatingValue': 5,\n",
      " '_id': ObjectId('666fa2ba635b43e663faefbe')}\n",
      "{'BusinessName': 'The Ship',\n",
      " 'RatingValue': 5,\n",
      " '_id': ObjectId('666fa2ba635b43e663faefbf')}\n",
      "{'BusinessName': 'Mariner',\n",
      " 'RatingValue': 5,\n",
      " '_id': ObjectId('666fa2ba635b43e663faefc0')}\n"
     ]
    }
   ],
   "source": [
    "# Check Current RatingValue\n",
    "query = {}\n",
    "fields = {'BusinessName': 1, 'RatingValue': 1}\n",
    "results = establishments.find(query, fields).limit(5)\n",
    "for result in results:\n",
    "    pprint(result)\n"
   ]
  },
  {
   "cell_type": "code",
   "execution_count": 78,
   "id": "92524ccc",
   "metadata": {},
   "outputs": [
    {
     "name": "stdout",
     "output_type": "stream",
     "text": [
      "{'_id': ObjectId('666fa2ba635b43e663faefb9'), 'RatingValue': 5}\n",
      "{'_id': ObjectId('666fa2ba635b43e663faefba'), 'RatingValue': 4}\n",
      "{'_id': ObjectId('666fa2ba635b43e663faefbe'), 'RatingValue': 5}\n",
      "{'_id': ObjectId('666fa2ba635b43e663faefbf'), 'RatingValue': 5}\n",
      "{'_id': ObjectId('666fa2ba635b43e663faefc0'), 'RatingValue': 5}\n"
     ]
    }
   ],
   "source": [
    "# Change the data type from String to Integer for RatingValue\n",
    "establishments.update_many(\n",
    "    {\"RatingValue\": {\"$type\": \"string\"}},\n",
    "    [\n",
    "        {\n",
    "            \"$set\": {\"RatingValue\": {\"$toInt\": \"$RatingValue\"}}\n",
    "        }\n",
    "    ]\n",
    ")\n",
    "\n",
    "query = {}\n",
    "fields = {'RatingValue': 1}\n",
    "\n",
    "results = establishments.find(query,fields).limit(5)\n",
    "for result in results:\n",
    "    print(result)"
   ]
  },
  {
   "cell_type": "code",
   "execution_count": 81,
   "id": "0deacaf9",
   "metadata": {},
   "outputs": [
    {
     "name": "stdout",
     "output_type": "stream",
     "text": [
      "{'_id': ObjectId('666fa2ba635b43e663faefb9'), 'RatingValue': 5, 'geocode': {'longitude': 1.195625, 'latitude': 51.083812}}\n",
      "{'_id': ObjectId('666fa2ba635b43e663faefba'), 'RatingValue': 4, 'geocode': {'longitude': 1.196408, 'latitude': 51.086058}}\n",
      "{'_id': ObjectId('666fa2ba635b43e663faefbe'), 'RatingValue': 5, 'geocode': {'longitude': 1.194762, 'latitude': 51.085797}}\n",
      "{'_id': ObjectId('666fa2ba635b43e663faefbf'), 'RatingValue': 5, 'geocode': {'longitude': 1.188537, 'latitude': 51.08084}}\n",
      "{'_id': ObjectId('666fa2ba635b43e663faefc0'), 'RatingValue': 5, 'geocode': {'longitude': 1.188537, 'latitude': 51.08084}}\n"
     ]
    }
   ],
   "source": [
    "# Check that the coordinates and rating value are now numbers\n",
    "query = {}\n",
    "fields = {'geocode.latitude': 1, 'geocode.longitude': 1, 'RatingValue' : 1}\n",
    "\n",
    "results = establishments.find(query,fields).limit(5)\n",
    "for result in results:\n",
    "    print(result) \n",
    "# values are no longer strings ('')."
   ]
  },
  {
   "cell_type": "code",
   "execution_count": 87,
   "id": "0f956a9d",
   "metadata": {},
   "outputs": [
    {
     "name": "stdout",
     "output_type": "stream",
     "text": [
      "Data Types:\n",
      "_id                            object\n",
      "FHRSID                        float64\n",
      "ChangesByServerID             float64\n",
      "LocalAuthorityBusinessID       object\n",
      "BusinessName                   object\n",
      "BusinessType                   object\n",
      "BusinessTypeID                 object\n",
      "AddressLine1                   object\n",
      "AddressLine2                   object\n",
      "AddressLine3                   object\n",
      "AddressLine4                   object\n",
      "PostCode                       object\n",
      "Phone                          object\n",
      "RatingValue                   float64\n",
      "RatingKey                      object\n",
      "RatingDate                     object\n",
      "LocalAuthorityCode             object\n",
      "LocalAuthorityName             object\n",
      "LocalAuthorityWebSite          object\n",
      "LocalAuthorityEmailAddress     object\n",
      "scores                         object\n",
      "SchemeType                     object\n",
      "geocode                        object\n",
      "RightToReply                   object\n",
      "Distance                      float64\n",
      "NewRatingPending                 bool\n",
      "meta                           object\n",
      "links                          object\n",
      "dtype: object\n"
     ]
    }
   ],
   "source": [
    "# Checking Rating Value via dtypes\n",
    "documents = list(db.establishments.find())\n",
    "df = pd.DataFrame(documents)\n",
    "print(f'Data Types:')\n",
    "print(df.dtypes) "
   ]
  }
 ],
 "metadata": {
  "kernelspec": {
   "display_name": "Python 3 (ipykernel)",
   "language": "python",
   "name": "python3"
  },
  "language_info": {
   "codemirror_mode": {
    "name": "ipython",
    "version": 3
   },
   "file_extension": ".py",
   "mimetype": "text/x-python",
   "name": "python",
   "nbconvert_exporter": "python",
   "pygments_lexer": "ipython3",
   "version": "3.11.7"
  }
 },
 "nbformat": 4,
 "nbformat_minor": 5
}
